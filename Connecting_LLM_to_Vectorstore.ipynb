{
 "cells": [
  {
   "cell_type": "code",
   "execution_count": null,
   "metadata": {},
   "outputs": [],
   "source": [
    "import os\n",
    "from langchain_huggingface import HuggingFaceEndpoint\n",
    "from langchain_core.prompts import PromptTemplate\n",
    "from langchain.chains import RetrievalQA\n",
    "from langchain_huggingface import HuggingFaceEmbeddings\n",
    "from langchain_community.vectorstores import FAISS"
   ]
  },
  {
   "cell_type": "code",
   "execution_count": null,
   "metadata": {},
   "outputs": [],
   "source": [
    "HF_TOKEN = os.environ.get(\"HF_TOKEN\")\n",
    "HUGGINGFACE_REPO_ID = \"mistralai/Mistral-7B-Instruct-v0.3\"\n",
    "\n",
    "def load_llm(repo_id):\n",
    "    return HuggingFaceEndpoint(\n",
    "        repo_id=repo_id,\n",
    "        temperature=0.5,\n",
    "        model_kwargs={\"token\": HF_TOKEN, \"max_length\": \"512\"}\n",
    "    )"
   ]
  },
  {
   "cell_type": "code",
   "execution_count": null,
   "metadata": {},
   "outputs": [],
   "source": [
    "def set_custom_prompt(template):\n",
    "    return PromptTemplate(template=template, input_variables=[\"context\", \"question\"])\n",
    "\n",
    "DB_FAISS_PATH = \"vectorstore/db_faiss\"\n",
    "embedding_model = HuggingFaceEmbeddings(model_name=\"sentence-transformers/all-MiniLM-L6-v2\")\n",
    "db = FAISS.load_local(DB_FAISS_PATH, embedding_model, allow_dangerous_deserialization=True)\n",
    "\n",
    "custom_prompt_template = \"\"\"\n",
    "Use the pieces of information provided in the context to answer the user's question.\n",
    "If you don't know the answer, just say so. Do not make up answers or include anything not from the context.\n",
    "\n",
    "Context: {context}\n",
    "Question: {question}\n",
    "\"\"\""
   ]
  },
  {
   "cell_type": "code",
   "execution_count": null,
   "metadata": {},
   "outputs": [],
   "source": [
    "qa_chain = RetrievalQA.from_chain_type(\n",
    "    llm=load_llm(HUGGINGFACE_REPO_ID),\n",
    "    chain_type=\"stuff\",\n",
    "    retriever=db.as_retriever(search_kwargs={\"k\": 3}),\n",
    "    return_source_documents=True,\n",
    "    chain_type_kwargs={\"prompt\": set_custom_prompt(custom_prompt_template)}\n",
    ")\n",
    "\n",
    "user_query = input(\"Enter your query: \")\n",
    "response = qa_chain.invoke({\"query\": user_query})\n",
    "\n",
    "print(\"Result:\", response[\"result\"])\n",
    "print(\"Source Documents:\", response[\"source_documents\"])"
   ]
  }
 ],
 "metadata": {
  "language_info": {
   "name": "python"
  }
 },
 "nbformat": 4,
 "nbformat_minor": 2
}
